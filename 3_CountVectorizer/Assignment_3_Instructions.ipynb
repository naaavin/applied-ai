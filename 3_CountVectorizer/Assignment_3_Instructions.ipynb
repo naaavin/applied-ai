{
 "cells": [
  {
   "cell_type": "markdown",
   "metadata": {
    "id": "h9464I-uxLiw"
   },
   "source": [
    "# Assignment"
   ]
  },
  {
   "cell_type": "markdown",
   "metadata": {
    "id": "IvLvmewlxLix"
   },
   "source": [
    "<font face='georgia'>\n",
    "    \n",
    "   <h4><strong>What does tf-idf mean?</strong></h4>\n",
    "\n",
    "   <p>    \n",
    "Tf-idf stands for <em>term frequency-inverse document frequency</em>, and the tf-idf weight is a weight often used in information retrieval and text mining. This weight is a statistical measure used to evaluate how important a word is to a document in a collection or corpus. The importance increases proportionally to the number of times a word appears in the document but is offset by the frequency of the word in the corpus. Variations of the tf-idf weighting scheme are often used by search engines as a central tool in scoring and ranking a document's relevance given a user query.\n",
    "</p>\n",
    "    \n",
    "   <p>\n",
    "One of the simplest ranking functions is computed by summing the tf-idf for each query term; many more sophisticated ranking functions are variants of this simple model.\n",
    "</p>\n",
    "    \n",
    "   <p>\n",
    "Tf-idf can be successfully used for stop-words filtering in various subject fields including text summarization and classification.\n",
    "</p>\n",
    "    \n",
    "</font>"
   ]
  },
  {
   "cell_type": "markdown",
   "metadata": {
    "id": "4XLaGFUMxLiy"
   },
   "source": [
    "<font face='georgia'>\n",
    "    <h4><strong>How to Compute:</strong></h4>\n",
    "\n",
    "Typically, the tf-idf weight is composed by two terms: the first computes the normalized Term Frequency (TF), aka. the number of times a word appears in a document, divided by the total number of words in that document; the second term is the Inverse Document Frequency (IDF), computed as the logarithm of the number of the documents in the corpus divided by the number of documents where the specific term appears.\n",
    "\n",
    " <ul>\n",
    "    <li>\n",
    "<strong>TF:</strong> Term Frequency, which measures how frequently a term occurs in a document. Since every document is different in length, it is possible that a term would appear much more times in long documents than shorter ones. Thus, the term frequency is often divided by the document length (aka. the total number of terms in the document) as a way of normalization: <br>\n",
    "\n",
    "$TF(t) = \\frac{\\text{Number of times term t appears in a document}}{\\text{Total number of terms in the document}}.$\n",
    "</li>\n",
    "<li>\n",
    "<strong>IDF:</strong> Inverse Document Frequency, which measures how important a term is. While computing TF, all terms are considered equally important. However it is known that certain terms, such as \"is\", \"of\", and \"that\", may appear a lot of times but have little importance. Thus we need to weigh down the frequent terms while scale up the rare ones, by computing the following: <br>\n",
    "\n",
    "$IDF(t) = \\log_{e}\\frac{\\text{Total  number of documents}} {\\text{Number of documents with term t in it}}.$\n",
    "for numerical stabiltiy we will be changing this formula little bit\n",
    "$IDF(t) = \\log_{e}\\frac{\\text{Total  number of documents}} {\\text{Number of documents with term t in it}+1}.$\n",
    "</li>\n",
    "</ul>\n",
    "\n",
    "<br>\n",
    "<h4><strong>Example</strong></h4>\n",
    "<p>\n",
    "\n",
    "Consider a document containing 100 words wherein the word cat appears 3 times. The term frequency (i.e., tf) for cat is then (3 / 100) = 0.03. Now, assume we have 10 million documents and the word cat appears in one thousand of these. Then, the inverse document frequency (i.e., idf) is calculated as log(10,000,000 / 1,000) = 4. Thus, the Tf-idf weight is the product of these quantities: 0.03 * 4 = 0.12.\n",
    "</p>\n",
    "</font>"
   ]
  },
  {
   "cell_type": "markdown",
   "metadata": {
    "id": "dg2ooa4DxLiz"
   },
   "source": [
    "## Task-1"
   ]
  },
  {
   "cell_type": "markdown",
   "metadata": {
    "id": "TAcTjhO8xLiz"
   },
   "source": [
    "<font face='georgia'>\n",
    "    <h4><strong>1. Build a TFIDF Vectorizer & compare its results with Sklearn:</strong></h4>\n",
    "\n",
    "<ul>\n",
    "    <li> As a part of this task you will be implementing TFIDF vectorizer on a collection of text documents.</li>\n",
    "    <br>\n",
    "    <li> You should compare the results of your own implementation of TFIDF vectorizer with that of sklearns implemenation TFIDF vectorizer.</li>\n",
    "    <br>\n",
    "    <li> Sklearn does few more tweaks in the implementation of its version of TFIDF vectorizer, so to replicate the exact results you would need to add following things to your custom implementation of tfidf vectorizer:\n",
    "       <ol>\n",
    "        <li> Sklearn has its vocabulary generated from idf sroted in alphabetical order</li>\n",
    "        <li> Sklearn formula of idf is different from the standard textbook formula. Here the constant <strong>\"1\"</strong> is added to the numerator and denominator of the idf as if an extra document was seen containing every term in the collection exactly once, which prevents zero divisions.\n",
    "            \n",
    " $IDF(t) = 1+\\log_{e}\\frac{1\\text{ }+\\text{ Total  number of documents in collection}} {1+\\text{Number of documents with term t in it}}.$\n",
    "        </li>\n",
    "        <li> Sklearn applies L2-normalization on its output matrix.</li>\n",
    "        <li> The final output of sklearn tfidf vectorizer is a sparse matrix.</li>\n",
    "    </ol>\n",
    "    <br>\n",
    "    <li>Steps to approach this task:\n",
    "    <ol>\n",
    "        <li> You would have to write both fit and transform methods for your custom implementation of tfidf vectorizer.</li>\n",
    "        <li> Print out the alphabetically sorted voacb after you fit your data and check if its the same as that of the feature names from sklearn tfidf vectorizer. </li>\n",
    "        <li> Print out the idf values from your implementation and check if its the same as that of sklearns tfidf vectorizer idf values. </li>\n",
    "        <li> Once you get your voacb and idf values to be same as that of sklearns implementation of tfidf vectorizer, proceed to the below steps. </li>\n",
    "        <li> Make sure the output of your implementation is a sparse matrix. Before generating the final output, you need to normalize your sparse matrix using L2 normalization. You can refer to this link https://scikit-learn.org/stable/modules/generated/sklearn.preprocessing.normalize.html </li>\n",
    "        <li> After completing the above steps, print the output of your custom implementation and compare it with sklearns implementation of tfidf vectorizer.</li>\n",
    "        <li> To check the output of a single document in your collection of documents,  you can convert the sparse matrix related only to that document into dense matrix and print it.</li>\n",
    "        </ol>\n",
    "    </li>\n",
    "    <br>\n",
    "   </ul>\n",
    "\n",
    "  <p> <font color=\"#e60000\"><strong>Note-1: </strong></font> All the necessary outputs of sklearns tfidf vectorizer have been provided as reference in this notebook, you can compare your outputs as mentioned in the above steps, with these outputs.<br>\n",
    "   <font color=\"#e60000\"><strong>Note-2: </strong></font> The output of your custom implementation and that of sklearns implementation would match only with the collection of document strings provided to you as reference in this notebook. It would not match for strings that contain capital letters or punctuations, etc, because sklearn version of tfidf vectorizer deals with such strings in a different way. To know further details about how sklearn tfidf vectorizer works with such string, you can always refer to its official documentation.<br>\n",
    "   <font color=\"#e60000\"><strong>Note-3: </strong></font> During this task, it would be helpful for you to debug the code you write with print statements wherever necessary. But when you are finally submitting the assignment, make sure your code is readable and try not to print things which are not part of this task.\n",
    "    </p>"
   ]
  },
  {
   "cell_type": "markdown",
   "metadata": {
    "id": "OnV82tg1xLi0"
   },
   "source": [
    "### Corpus"
   ]
  },
  {
   "cell_type": "code",
   "execution_count": 140,
   "metadata": {
    "id": "bUsYm9wjxLi1"
   },
   "outputs": [],
   "source": [
    "## SkLearn Collection of string documents\n",
    "\n",
    "corpus = [\n",
    "     'this is the first document',\n",
    "     'this document is the second document',\n",
    "     'and this is the third one',\n",
    "     'is this the first document',\n",
    "]"
   ]
  },
  {
   "cell_type": "markdown",
   "metadata": {
    "id": "eLwmFZfKxLi4"
   },
   "source": [
    "### SkLearn Implementation"
   ]
  },
  {
   "cell_type": "code",
   "execution_count": 2,
   "metadata": {
    "id": "Np4dfQOkxLi4"
   },
   "outputs": [],
   "source": [
    "from sklearn.feature_extraction.text import TfidfVectorizer\n",
    "vectorizer = TfidfVectorizer()\n",
    "vectorizer.fit(corpus)\n",
    "skl_output = vectorizer.transform(corpus)"
   ]
  },
  {
   "cell_type": "code",
   "execution_count": 3,
   "metadata": {
    "id": "-7Om8YpYxLi6",
    "outputId": "0a3bd0f5-4424-4400-944f-4482a80bd799"
   },
   "outputs": [
    {
     "name": "stdout",
     "output_type": "stream",
     "text": [
      "['and', 'document', 'first', 'is', 'one', 'second', 'the', 'third', 'this']\n"
     ]
    }
   ],
   "source": [
    "# sklearn feature names, they are sorted in alphabetic order by default.\n",
    "print(vectorizer.get_feature_names())"
   ]
  },
  {
   "cell_type": "code",
   "execution_count": 4,
   "metadata": {
    "id": "dTKplK96xLi-",
    "outputId": "53722fa2-6756-4aa0-f179-37b578bb6890"
   },
   "outputs": [
    {
     "name": "stdout",
     "output_type": "stream",
     "text": [
      "[1.91629073 1.22314355 1.51082562 1.         1.91629073 1.91629073\n",
      " 1.         1.91629073 1.        ]\n"
     ]
    }
   ],
   "source": [
    "# Here we will print the sklearn tfidf vectorizer idf values after applying the fit method\n",
    "# After using the fit function on the corpus the vocab has 9 words in it, and each has its idf value.\n",
    "\n",
    "print(vectorizer.idf_)"
   ]
  },
  {
   "cell_type": "code",
   "execution_count": 5,
   "metadata": {
    "id": "-CTiWHygxLjA",
    "outputId": "8d5a9cde-2c29-4afe-f7b4-1547e88dba4f"
   },
   "outputs": [
    {
     "data": {
      "text/plain": [
       "(4, 9)"
      ]
     },
     "execution_count": 5,
     "metadata": {},
     "output_type": "execute_result"
    }
   ],
   "source": [
    "# shape of sklearn tfidf vectorizer output after applying transform method.\n",
    "\n",
    "skl_output.shape"
   ]
  },
  {
   "cell_type": "code",
   "execution_count": 6,
   "metadata": {
    "id": "bDKEpbA-xLjD",
    "outputId": "87dafd65-5313-443f-8c6e-1b05cc8c2543"
   },
   "outputs": [
    {
     "name": "stdout",
     "output_type": "stream",
     "text": [
      "  (0, 8)\t0.38408524091481483\n",
      "  (0, 6)\t0.38408524091481483\n",
      "  (0, 3)\t0.38408524091481483\n",
      "  (0, 2)\t0.5802858236844359\n",
      "  (0, 1)\t0.46979138557992045\n"
     ]
    }
   ],
   "source": [
    "# sklearn tfidf values for first line of the above corpus.\n",
    "# Here the output is a sparse matrix\n",
    "\n",
    "print(skl_output[0])"
   ]
  },
  {
   "cell_type": "code",
   "execution_count": 7,
   "metadata": {
    "id": "3QWo34hexLjF",
    "outputId": "cdc04e08-989f-4bdc-dd7f-f1c82a9f90be"
   },
   "outputs": [
    {
     "name": "stdout",
     "output_type": "stream",
     "text": [
      "[[0.         0.46979139 0.58028582 0.38408524 0.         0.\n",
      "  0.38408524 0.         0.38408524]]\n"
     ]
    }
   ],
   "source": [
    "# sklearn tfidf values for first line of the above corpus.\n",
    "# To understand the output better, here we are converting the sparse output matrix to dense matrix and printing it.\n",
    "# Notice that this output is normalized using L2 normalization. sklearn does this by default.\n",
    "\n",
    "print(skl_output[0].toarray())"
   ]
  },
  {
   "cell_type": "markdown",
   "metadata": {
    "id": "qfIwx5LzxLjI"
   },
   "source": [
    "### Your custom implementation"
   ]
  },
  {
   "cell_type": "code",
   "execution_count": 8,
   "metadata": {
    "id": "HjuCcJwXxLjJ"
   },
   "outputs": [],
   "source": [
    "# Write your code here.\n",
    "# Make sure its well documented and readble with appropriate comments.\n",
    "# Compare your results with the above sklearn tfidf vectorizer\n",
    "# You are not supposed to use any other library apart from the ones given below\n",
    "\n",
    "from collections import Counter\n",
    "from tqdm import tqdm\n",
    "from scipy.sparse import csr_matrix\n",
    "import math\n",
    "import operator\n",
    "from sklearn.preprocessing import normalize\n",
    "import numpy"
   ]
  },
  {
   "cell_type": "code",
   "execution_count": 204,
   "metadata": {},
   "outputs": [
    {
     "name": "stdout",
     "output_type": "stream",
     "text": [
      "['and', 'document', 'first', 'is', 'one', 'second', 'the', 'third', 'this']\n",
      "  (0, 1)\t0.46979138558088085\n",
      "  (0, 2)\t0.5802858228626505\n",
      "  (0, 3)\t0.3840852413282814\n",
      "  (0, 6)\t0.3840852413282814\n",
      "  (0, 8)\t0.3840852413282814\n"
     ]
    }
   ],
   "source": [
    "def fit(corpus):\n",
    "    vocab = set()\n",
    "    for doc in corpus:\n",
    "        for word in doc.split(' '):\n",
    "            vocab.add(word)\n",
    "    vocab = sorted(list(vocab))\n",
    "    print(vocab)\n",
    "    N = len(corpus)\n",
    "    idf = []\n",
    "    for word in vocab:\n",
    "        ni = 0\n",
    "        for doc in corpus:\n",
    "            if word in doc.split(' '):\n",
    "                ni += 1\n",
    "        idf.append(round(1 + math.log((1+N)/(ni+1)),8))\n",
    "    #print(idf)\n",
    "    \n",
    "    tf = []\n",
    "    for doc in corpus:\n",
    "        Nw = len(doc.split(\" \"))\n",
    "        tf_doc = [doc.split(\" \").count(word)/Nw for word in vocab]\n",
    "        tf.append(tf_doc)\n",
    "        \n",
    "    tfidf = [[0]*len(vocab) for _ in range(len(corpus))]\n",
    "    for i in range(len(tfidf)):\n",
    "        for j in range(len(tfidf[0])):\n",
    "            tfidf[i][j] = tf[i][j] * idf[j]\n",
    "    #print(tfidf)\n",
    "    tfidf_norm = csr_matrix(normalize(tfidf))\n",
    "    print(tfidf_norm[0])\n",
    "    \n",
    "def transform():\n",
    "    pass\n",
    "\n",
    "fit(corpus)"
   ]
  },
  {
   "cell_type": "markdown",
   "metadata": {
    "id": "MMxBmVZExLjK"
   },
   "source": [
    "## Task-2"
   ]
  },
  {
   "cell_type": "markdown",
   "metadata": {
    "id": "51j_OtqAxLjL"
   },
   "source": [
    "<font face='georgia'>\n",
    "    <h4><strong>2. Implement max features functionality:</strong></h4>\n",
    "\n",
    "<ul>\n",
    "    <li> As a part of this task you have to modify your fit and transform functions so that your vocab will contain only 50 terms with top idf scores.</li>\n",
    "    <br>\n",
    "    <li>This task is similar to your previous task, just that here your vocabulary is limited to only top 50 features names based on their idf values. Basically your output will have exactly 50 columns and the number of rows will depend on the number of documents you have in your corpus.</li>\n",
    "    <br>\n",
    "    <li>Here you will be give a pickle file, with file name <strong>cleaned_strings</strong>. You would have to load the corpus from this file and use it as input to your tfidf vectorizer.</li>\n",
    "    <br>\n",
    "    <li>Steps to approach this task:\n",
    "    <ol>\n",
    "        <li> You would have to write both fit and transform methods for your custom implementation of tfidf vectorizer, just like in the previous task. Additionally, here you have to limit the number of features generated to 50 as described above.</li>\n",
    "        <li> Now sort your vocab based in descending order of idf values and print out the words in the sorted voacb after you fit your data. Here you should be getting only 50 terms in your vocab. And make sure to print idf values for each term in your vocab. </li>\n",
    "        <li> Make sure the output of your implementation is a sparse matrix. Before generating the final output, you need to normalize your sparse matrix using L2 normalization. You can refer to this link https://scikit-learn.org/stable/modules/generated/sklearn.preprocessing.normalize.html </li>\n",
    "        <li> Now check the output of a single document in your collection of documents,  you can convert the sparse matrix related only to that document into dense matrix and print it. And this dense matrix should contain 1 row and 50 columns. </li>\n",
    "        </ol>\n",
    "    </li>\n",
    "    <br>\n",
    "   </ul>"
   ]
  },
  {
   "cell_type": "code",
   "execution_count": 226,
   "metadata": {
    "id": "NHxPLlwNxLjL",
    "outputId": "9abd8e08-0e24-4975-9a13-4d3636d60323"
   },
   "outputs": [
    {
     "name": "stdout",
     "output_type": "stream",
     "text": [
      "Number of documents in corpus =  746\n"
     ]
    }
   ],
   "source": [
    "# Below is the code to load the cleaned_strings pickle file provided\n",
    "# Here corpus is of list type\n",
    "\n",
    "import pickle\n",
    "with open('cleaned_strings', 'rb') as f:\n",
    "    corpus = pickle.load(f)\n",
    "    \n",
    "# printing the length of the corpus loaded\n",
    "print(\"Number of documents in corpus = \",len(corpus))"
   ]
  },
  {
   "cell_type": "code",
   "execution_count": 227,
   "metadata": {
    "id": "ZULfoOIdxLjQ"
   },
   "outputs": [],
   "source": [
    "# Write your code here.\n",
    "# Try not to hardcode any values.\n",
    "# Make sure its well documented and readble with appropriate comments."
   ]
  },
  {
   "cell_type": "code",
   "execution_count": 236,
   "metadata": {
    "id": "1_DJnnR3xLjR"
   },
   "outputs": [],
   "source": [
    "def fit(corpus, n_features=None):\n",
    "    vocab = {}\n",
    "    for doc in corpus:\n",
    "        for word in doc.split(' '):\n",
    "            vocab[word]=None\n",
    "    #print(vocab)\n",
    "    \n",
    "    N = len(corpus)\n",
    "    idf = []\n",
    "    for word in vocab:\n",
    "        ni = 0\n",
    "        for doc in corpus:\n",
    "            if word in doc.split(' '):\n",
    "                ni += 1\n",
    "        vocab[word] = round(1 + math.log((1+N)/(ni+1)),8)\n",
    "    \n",
    "    top_features_idf = sorted(sorted(list(vocab.items()), key=lambda x:x[1])[:n_features],key=lambda x:x[0])\n",
    "    top_features = [x[0] for x in top_features_idf]\n",
    "    top_idf = [x[1] for x in top_features_idf]\n",
    "    \n",
    "    print(top_features_idf)\n",
    "    \n",
    "    tf = []\n",
    "    for doc in corpus:\n",
    "        Nw = len(doc.split(\" \"))\n",
    "        tf_doc = [doc.split(\" \").count(word)/Nw for word in top_features]\n",
    "        tf.append(tf_doc)\n",
    "        \n",
    "    tfidf = [[0]*len(top_features) for _ in range(len(corpus))]\n",
    "    for i in range(len(tfidf)):\n",
    "        for j in range(len(tfidf[0])):\n",
    "            tfidf[i][j] = tf[i][j] * top_idf[j]\n",
    "    \n",
    "    top_tfidf_norm = csr_matrix(normalize(tfidf))\n",
    "    print(top_tfidf_norm)"
   ]
  },
  {
   "cell_type": "code",
   "execution_count": 237,
   "metadata": {},
   "outputs": [
    {
     "name": "stdout",
     "output_type": "stream",
     "text": [
      "[('acting', 3.97847903), ('actors', 4.67162621), ('also', 4.39718936), ('anyone', 4.84347646), ('bad', 3.62708114), ('best', 4.57154275), ('better', 4.78285184), ('cast', 4.67162621), ('character', 4.57154275), ('characters', 4.15032928), ('could', 4.39718936), ('even', 4.03254625), ('ever', 4.48057097), ('every', 4.84347646), ('film', 2.7718781), ('films', 4.67162621), ('funny', 4.78285184), ('good', 3.78742379), ('great', 4.18207798), ('like', 4.00514727), ('little', 4.72569343), ('look', 4.62033291), ('love', 4.57154275), ('made', 4.48057097), ('make', 4.67162621), ('movie', 2.71822539), ('movies', 4.48057097), ('much', 4.72569343), ('never', 4.72569343), ('no', 4.35796865), ('not', 2.89756631), ('one', 3.57301392), ('plot', 4.35796865), ('real', 4.57154275), ('really', 4.08970466), ('scenes', 4.78285184), ('script', 4.67162621), ('see', 4.03254625), ('seen', 4.48057097), ('show', 4.78285184), ('story', 4.57154275), ('think', 4.67162621), ('time', 3.95250354), ('watch', 4.72569343), ('watching', 4.67162621), ('way', 4.52502273), ('well', 4.11955762), ('wonderful', 4.67162621), ('work', 4.67162621), ('would', 4.28386067)]\n",
      "  (0, 25)\t1.0\n",
      "  (1, 9)\t0.8199426326936288\n",
      "  (1, 30)\t0.5724456996881374\n",
      "  (2, 0)\t0.5202944245505268\n",
      "  (2, 11)\t0.5273651852369157\n",
      "  (2, 25)\t0.3554819579101014\n",
      "  (2, 32)\t0.5699230218038841\n",
      "  (3, 20)\t1.0\n",
      "  (4, 5)\t0.859534997497183\n",
      "  (4, 25)\t0.5110768905727567\n",
      "  (5, 25)\t1.0\n",
      "  (7, 17)\t0.9412322289981205\n",
      "  (7, 25)\t0.3377601087979893\n",
      "  (11, 5)\t0.5475363088948766\n",
      "  (11, 21)\t0.5533799344667453\n",
      "  (11, 23)\t0.5366405663942083\n",
      "  (11, 25)\t0.32556342096657337\n",
      "  (12, 5)\t1.0\n",
      "  (14, 25)\t1.0\n",
      "  (15, 0)\t0.7023184507410304\n",
      "  (15, 37)\t0.7118629037593677\n",
      "  (16, 12)\t0.6478335936827135\n",
      "  (16, 14)\t0.4007783299933786\n",
      "  (16, 23)\t0.6478335936827135\n",
      "  (17, 0)\t0.7157071466807016\n",
      "  :\t:\n",
      "  (727, 44)\t1.0\n",
      "  (728, 17)\t0.8124203310492755\n",
      "  (728, 25)\t0.5830722131072493\n",
      "  (729, 25)\t0.45392006165323956\n",
      "  (729, 30)\t0.4838684396511909\n",
      "  (729, 38)\t0.7482164865453321\n",
      "  (733, 25)\t0.5507458609095804\n",
      "  (733, 46)\t0.8346729878766684\n",
      "  (734, 33)\t0.749932898837539\n",
      "  (734, 37)\t0.6615139055538631\n",
      "  (735, 32)\t0.6735118840203277\n",
      "  (735, 35)\t0.7391763944305775\n",
      "  (736, 43)\t1.0\n",
      "  (738, 18)\t1.0\n",
      "  (739, 19)\t0.5224704217819242\n",
      "  (739, 40)\t0.5963565651323971\n",
      "  (739, 47)\t0.6094124265113957\n",
      "  (740, 25)\t0.49860230787402554\n",
      "  (740, 28)\t0.8668308592699591\n",
      "  (741, 44)\t1.0\n",
      "  (742, 14)\t0.3868852630717352\n",
      "  (742, 36)\t0.652042864088671\n",
      "  (742, 48)\t0.652042864088671\n",
      "  (744, 4)\t1.0\n",
      "  (745, 31)\t1.0\n"
     ]
    }
   ],
   "source": [
    "fit(corpus, 50)"
   ]
  },
  {
   "cell_type": "code",
   "execution_count": 238,
   "metadata": {},
   "outputs": [
    {
     "name": "stdout",
     "output_type": "stream",
     "text": [
      "['acting', 'actors', 'also', 'bad', 'best', 'better', 'cast', 'character', 'characters', 'could', 'even', 'ever', 'every', 'excellent', 'film', 'films', 'funny', 'good', 'great', 'like', 'little', 'look', 'love', 'made', 'make', 'movie', 'movies', 'much', 'never', 'no', 'not', 'one', 'plot', 'real', 'really', 'scenes', 'script', 'see', 'seen', 'show', 'story', 'think', 'time', 'watch', 'watching', 'way', 'well', 'wonderful', 'work', 'would']\n"
     ]
    }
   ],
   "source": [
    "vectorizer = TfidfVectorizer(max_features=50)\n",
    "vectorizer.fit(corpus)\n",
    "skl_output = vectorizer.transform(corpus)\n",
    "print(vectorizer.get_feature_names())"
   ]
  },
  {
   "cell_type": "code",
   "execution_count": 239,
   "metadata": {},
   "outputs": [
    {
     "name": "stdout",
     "output_type": "stream",
     "text": [
      "[3.97847903 4.67162621 4.39718936 3.62708114 4.57154275 4.78285184\n",
      " 4.67162621 4.57154275 4.15032928 4.39718936 4.03254625 4.48057097\n",
      " 4.84347646 4.97700786 2.7718781  4.67162621 4.78285184 3.78742379\n",
      " 4.18207798 4.00514727 4.72569343 4.62033291 4.57154275 4.48057097\n",
      " 4.67162621 2.71822539 4.48057097 4.72569343 4.72569343 4.35796865\n",
      " 2.89756631 3.57301392 4.35796865 4.57154275 4.08970466 4.78285184\n",
      " 4.67162621 4.03254625 4.48057097 4.78285184 4.57154275 4.67162621\n",
      " 3.95250354 4.72569343 4.67162621 4.52502273 4.11955762 4.67162621\n",
      " 4.67162621 4.28386067]\n"
     ]
    }
   ],
   "source": [
    "print(vectorizer.idf_)"
   ]
  },
  {
   "cell_type": "code",
   "execution_count": 213,
   "metadata": {},
   "outputs": [
    {
     "data": {
      "text/plain": [
       "(746, 50)"
      ]
     },
     "execution_count": 213,
     "metadata": {},
     "output_type": "execute_result"
    }
   ],
   "source": [
    "skl_output.shape"
   ]
  },
  {
   "cell_type": "code",
   "execution_count": null,
   "metadata": {},
   "outputs": [],
   "source": []
  }
 ],
 "metadata": {
  "colab": {
   "collapsed_sections": [],
   "name": "Assignment_3_Instructions.ipynb",
   "provenance": []
  },
  "kernelspec": {
   "display_name": "Python 3",
   "language": "python",
   "name": "python3"
  },
  "language_info": {
   "codemirror_mode": {
    "name": "ipython",
    "version": 3
   },
   "file_extension": ".py",
   "mimetype": "text/x-python",
   "name": "python",
   "nbconvert_exporter": "python",
   "pygments_lexer": "ipython3",
   "version": "3.8.8"
  }
 },
 "nbformat": 4,
 "nbformat_minor": 1
}
