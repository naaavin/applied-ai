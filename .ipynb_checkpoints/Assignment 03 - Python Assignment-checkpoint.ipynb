{
 "cells": [
  {
   "cell_type": "markdown",
   "metadata": {
    "id": "vsqhJgf39MaC"
   },
   "source": [
    "## Python Mandatory Assignment\n",
    "(without numpy or sklearn)"
   ]
  },
  {
   "cell_type": "markdown",
   "metadata": {
    "id": "hIpOukej9Y_P"
   },
   "source": [
    "### Q1: Given two matrices please print the product of those two matrices\n",
    "```\n",
    "Ex 1: A   = [[1 3 4]\n",
    "             [2 5 7]\n",
    "             [5 9 6]]\n",
    "      B   = [[1 0 0]\n",
    "             [0 1 0]\n",
    "             [0 0 1]]\n",
    "      A*B = [[1 3 4]\n",
    "             [2 5 7]\n",
    "             [5 9 6]]\n",
    "\n",
    "\n",
    "Ex 2: A   = [[1 2]\n",
    "             [3 4]]\n",
    "      B   = [[1 2 3 4 5]\n",
    "             [5 6 7 8 9]]\n",
    "      A*B = [[11 14 17 20 23]\n",
    "             [23 30 37 44 51]]\n",
    "\n",
    "\n",
    "Ex 3: A   = [[1 2]\n",
    "             [3 4]]\n",
    "      B   = [[1 4]\n",
    "             [5 6]\n",
    "             [7 8]\n",
    "             [9 6]]\n",
    "      A*B =Not possible\n",
    "\n",
    "```\n",
    "\n"
   ]
  },
  {
   "cell_type": "code",
   "execution_count": 1,
   "metadata": {
    "id": "B_3x9MJf9ncO"
   },
   "outputs": [],
   "source": [
    "def matrix_mul(A, B):\n",
    "    m,n = len(A), len(A[0])\n",
    "    p,q = len(B), len(B[0])\n",
    "\n",
    "    ab_poss = (n == p)\n",
    "    if ab_poss:\n",
    "        print(f'The resultant matrix will be a {m}x{q} matrix.')\n",
    "    else:\n",
    "        print('The two matrices can\\'t be multiplied.')\n",
    "\n",
    "    if ab_poss:\n",
    "        AB = [[None]*q for _ in range(m)]\n",
    "        \n",
    "        for i in range(m):\n",
    "            for j in range(q):\n",
    "                curr_row = A[i]\n",
    "                curr_col = [B[x][j] for x in range(p)]\n",
    "                curr_value = 0\n",
    "                for y in range(n):\n",
    "                    curr_value += curr_row[y]*curr_col[y]\n",
    "                #print(i,j)\n",
    "                #print(curr_row, curr_col, curr_value, end = '\\n')\n",
    "                AB[i][j] = curr_value\n",
    "        \n",
    "        for row in AB:\n",
    "            print(row)"
   ]
  },
  {
   "cell_type": "code",
   "execution_count": 2,
   "metadata": {
    "colab": {
     "base_uri": "https://localhost:8080/"
    },
    "id": "KWk-1jPv9r6t",
    "outputId": "51dec655-d939-4714-ffa1-9a7f9d227377"
   },
   "outputs": [
    {
     "name": "stdout",
     "output_type": "stream",
     "text": [
      "The resultant matrix will be a 3x3 matrix.\n",
      "[1, 3, 4]\n",
      "[2, 5, 7]\n",
      "[5, 9, 6]\n"
     ]
    }
   ],
   "source": [
    "A = [[1, 3 ,4],\n",
    "     [2 ,5, 7],\n",
    "     [5 ,9, 6]]\n",
    "B = [[1 ,0 ,0],\n",
    "     [0 ,1 ,0],\n",
    "     [0 ,0 ,1]]  \n",
    "\n",
    "matrix_mul(A,B)"
   ]
  },
  {
   "cell_type": "code",
   "execution_count": 3,
   "metadata": {
    "colab": {
     "base_uri": "https://localhost:8080/"
    },
    "id": "hm2a_A4j9yDt",
    "outputId": "6b8e8310-8f7d-4381-8740-759f130ca8ec"
   },
   "outputs": [
    {
     "name": "stdout",
     "output_type": "stream",
     "text": [
      "The resultant matrix will be a 2x5 matrix.\n",
      "[11, 14, 17, 20, 23]\n",
      "[23, 30, 37, 44, 51]\n"
     ]
    }
   ],
   "source": [
    "A   = [[1, 2],\n",
    "       [3, 4]]\n",
    "B   = [[1, 2, 3, 4, 5],\n",
    "      [5, 6, 7, 8, 9]]\n",
    "\n",
    "matrix_mul(A,B)"
   ]
  },
  {
   "cell_type": "code",
   "execution_count": 4,
   "metadata": {
    "colab": {
     "base_uri": "https://localhost:8080/"
    },
    "id": "QTdPLw1h-EhX",
    "outputId": "e2e4d815-505f-4604-aeee-1afb320338b1"
   },
   "outputs": [
    {
     "name": "stdout",
     "output_type": "stream",
     "text": [
      "The two matrices can't be multiplied.\n"
     ]
    }
   ],
   "source": [
    "A   = [[1 ,2],\n",
    "       [3 ,4]]\n",
    "B   = [[1 ,4],\n",
    "        [5 ,6],\n",
    "        [7 ,8],\n",
    "        [9 ,6]]\n",
    "\n",
    "matrix_mul(A,B)"
   ]
  },
  {
   "cell_type": "markdown",
   "metadata": {
    "id": "MLhZU-nF-szv"
   },
   "source": [
    "### Q2. Select a number randomly with probability proportional to its magnitude from the given array of n elements\n",
    "Consider an experiment, selecting an element from the list A randomly with probability proportional to its magnitude. assume we are doing the same experiment for 100 times with replacement, in each experiment you will print a number that is selected randomly from A.\n",
    "\n",
    "\n",
    "```\n",
    "Ex 1: A = [0 5 27 6 13 28 100 45 10 79]\n",
    "let f(x) denote the number of times x getting selected in 100 experiments.\n",
    "f(100) > f(79) > f(45) > f(28) > f(27) > f(13) > f(10) > f(6) > f(5) > f(0)\n",
    "```"
   ]
  },
  {
   "cell_type": "code",
   "execution_count": 5,
   "metadata": {
    "id": "-hcNzuXx-6Lz"
   },
   "outputs": [],
   "source": [
    "#2. Weighted Random Choice \n",
    "import random\n",
    "\n",
    "def pick_a_number_from_list(A):\n",
    "    wt_function = lambda x : x #this way we can change the weights wrt a function\n",
    "    wts = [wt_function(x) for x in A]\n",
    "    return (random.choices(A, wts)[0])\n",
    "\n",
    "def sampling_based_on_magnitude():\n",
    "    samples = []\n",
    "    for i in range(10000): #choosing a sample space of 10000 numbers because it will be more prominent\n",
    "        number = pick_a_number_from_list(A)\n",
    "        #print(number)\n",
    "        samples.append(number)\n",
    "    return samples #returning a list of sampled numbers"
   ]
  },
  {
   "cell_type": "code",
   "execution_count": 6,
   "metadata": {
    "colab": {
     "base_uri": "https://localhost:8080/"
    },
    "id": "ZCtZ3w24AJYu",
    "outputId": "63c23742-af7e-42c7-c286-ef1203d1ffb1"
   },
   "outputs": [
    {
     "name": "stdout",
     "output_type": "stream",
     "text": [
      " x: 1, freq(x): 236\n",
      " x: 2, freq(x): 452\n",
      " x: 3, freq(x): 643\n",
      " x: 4, freq(x): 897\n",
      " x: 5, freq(x): 1109\n",
      " x: 6, freq(x): 1310\n",
      " x: 7, freq(x): 1603\n",
      " x: 8, freq(x): 1749\n",
      " x: 9, freq(x): 2001\n"
     ]
    }
   ],
   "source": [
    "A = [1,2,3,4,5,6,7,8,9]\n",
    "samples = sampling_based_on_magnitude()\n",
    "for x in A:\n",
    "    print(f\" x: {x}, freq(x): {samples.count(x)}\") #calculating the frequency in a large sample space \n",
    "    #and seeing if it satisfies the probability rule wrt magnitude that we defined"
   ]
  },
  {
   "cell_type": "markdown",
   "metadata": {
    "id": "lesSyy6VFcPq"
   },
   "source": [
    "### Q3: Replace the digits in the string with '#'\n",
    "Consider a string that will have digits in that, we need to remove all the not digits and replace the digits with #\n",
    "<pre>\n",
    "Ex 1: A = 234                Output: ###\n",
    "Ex 2: A = a2b3c4             Output: ###\n",
    "Ex 3: A = abc                Output:   (empty string)\n",
    "Ex 5: A = #2a$#b%c%561#      Output: ####\n",
    "</pre>"
   ]
  },
  {
   "cell_type": "code",
   "execution_count": 7,
   "metadata": {
    "id": "NjdYq6FmGifR"
   },
   "outputs": [],
   "source": [
    "import re\n",
    "\n",
    "def replace_digits_with_symbol(text, symbol ='#'):\n",
    "    n_digits = len(re.findall(r'\\d', text))\n",
    "    print(symbol * n_digits)"
   ]
  },
  {
   "cell_type": "code",
   "execution_count": 8,
   "metadata": {
    "colab": {
     "base_uri": "https://localhost:8080/"
    },
    "id": "jsX3oVBfGiYb",
    "outputId": "a0a9abcb-225f-4d5b-9629-777b66213277"
   },
   "outputs": [
    {
     "name": "stdout",
     "output_type": "stream",
     "text": [
      "###\n",
      "###\n",
      "\n",
      "####\n"
     ]
    }
   ],
   "source": [
    "replace_digits_with_symbol('234')\n",
    "replace_digits_with_symbol('a2b3c4')\n",
    "replace_digits_with_symbol('abc')\n",
    "replace_digits_with_symbol('#2a$#b%c%561#')"
   ]
  },
  {
   "cell_type": "markdown",
   "metadata": {
    "id": "FoGpKZCMFcI9"
   },
   "source": [
    "### Q4. Students Marks Dashboard\n",
    "\n",
    "consider the marks list of class students given two lists\n",
    "Students = ['student1','student2','student3','student4','student5','student6','student7','student8','student9','student10']\n",
    "Marks = [45, 78, 12, 14, 48, 43, 45, 98, 35, 80]\n",
    "from the above two lists the Student[0] got Marks[0], Student[1] got Marks[1] and so on\n",
    "\n",
    "your task is to print the name of students a. Who got top 5 ranks, in the descending order of marks\n",
    "b. Who got least 5 ranks, in the increasing order of marks\n",
    "d. Who got marks between >25th percentile <75th percentile, in the increasing order of marks\n",
    "\n",
    "```\n",
    "Ex 1: \n",
    "Students=['student1','student2','student3','student4','student5','student6','student7','student8','student9','student10'] \n",
    "Marks = [45, 78, 12, 14, 48, 43, 47, 98, 35, 80]\n",
    "a. \n",
    "student8  98\n",
    "student10 80\n",
    "student2  78\n",
    "student5  48\n",
    "student7  47\n",
    "b.\n",
    "student3 12\n",
    "student4 14\n",
    "student9 35\n",
    "student6 43\n",
    "student1 45\n",
    "c.\n",
    "student9 35\n",
    "student6 43\n",
    "student1 45\n",
    "student7 47\n",
    "student5 48\n",
    "```"
   ]
  },
  {
   "cell_type": "code",
   "execution_count": 9,
   "metadata": {
    "id": "BjzEBK5SHnDP"
   },
   "outputs": [],
   "source": [
    "import math\n",
    "def students_marks_dashboard(students, marks):\n",
    "    st_marks = list(zip(students, marks))\n",
    "    st_marks.sort(key = lambda x : x[1], reverse = True)\n",
    "    #top 5\n",
    "    print(f'Top 5 : {st_marks[:5]}')\n",
    "    #least 5\n",
    "    print(f'Least 5 : {st_marks[-5:]}')\n",
    "    #between 25 to 75 %ile\n",
    "    total_students = len(st_marks)\n",
    "    pcile_25 = math.ceil(0.25*total_students)\n",
    "    pcile_75 = math.ceil(0.75*total_students)\n",
    "    #print(math.ceil(pcile_25), math.ceil(pcile_75))\n",
    "    print(f'Between 25-75 %ile : {st_marks[pcile_25 - 1 : pcile_75-1]}')"
   ]
  },
  {
   "cell_type": "code",
   "execution_count": 10,
   "metadata": {
    "colab": {
     "base_uri": "https://localhost:8080/"
    },
    "id": "sWWjfyrFITzd",
    "outputId": "4837085d-5921-44be-eccf-d54c7dd0217f"
   },
   "outputs": [
    {
     "name": "stdout",
     "output_type": "stream",
     "text": [
      "Top 5 : [('student8', 98), ('student10', 80), ('student2', 78), ('student5', 48), ('student1', 45)]\n",
      "Least 5 : [('student7', 45), ('student6', 43), ('student9', 35), ('student4', 14), ('student3', 12)]\n",
      "Between 25-75 %ile : [('student2', 78), ('student5', 48), ('student1', 45), ('student7', 45), ('student6', 43)]\n"
     ]
    }
   ],
   "source": [
    "students = ['student1','student2','student3','student4','student5','student6','student7','student8','student9','student10']\n",
    "marks = [45, 78, 12, 14, 48, 43, 45, 98, 35, 80]\n",
    "\n",
    "students_marks_dashboard(students, marks)"
   ]
  },
  {
   "cell_type": "markdown",
   "metadata": {
    "id": "-G0AbdOPFcCC"
   },
   "source": [
    "### Q5. Find the closest points\n",
    "\n",
    "consider you have given n data points in the form of list of tuples like S=[(x1,y1),(x2,y2),(x3,y3),(x4,y4),(x5,y5),..,(xn,yn)] and a point P=(p,q) <br> your task is to find 5 closest points(based on cosine distance) in S from P\n",
    "<br>cosine distance between two points (x,y) and (p,q) is defind as $cos^{-1}(\\frac{(x\\cdot p+y\\cdot q)}{\\sqrt(x^2+y^2)\\cdot\\sqrt(p^2+q^2)})$\n",
    "<pre>\n",
    "Ex:\n",
    "\n",
    "S= [(1,2),(3,4),(-1,1),(6,-7),(0, 6),(-5,-8),(-1,-1)(6,0),(1,-1)]\n",
    "P= (3,-4)\n",
    "<img src='https://i.imgur.com/vIFPOcG.jpg', width=300>\n",
    "Output:\n",
    "(6,-7)\n",
    "(1,-1)\n",
    "(6,0)\n",
    "(-5,-8)\n",
    "(-1,-1)\n",
    "</pre>"
   ]
  },
  {
   "cell_type": "code",
   "execution_count": 11,
   "metadata": {
    "colab": {
     "base_uri": "https://localhost:8080/"
    },
    "id": "OuhgfTHXJqeV",
    "outputId": "282e2202-3f4d-4704-958b-d126ab0f8e46"
   },
   "outputs": [
    {
     "name": "stdout",
     "output_type": "stream",
     "text": [
      "[(6, -7), (1, -1), (6, 0), (-5, -8), (-1, -1)]\n"
     ]
    }
   ],
   "source": [
    "def closest_points(S,P):\n",
    "    p, q = P\n",
    "    S.sort(key = lambda s: math.acos(((s[0]*p)+(s[1]*q))/((((s[0]**2)+(s[1]**2))**0.5)*(((p**2)+(q**2))**0.5))))\n",
    "    print(S[:5]) #nearest 5 pts\n",
    "\n",
    "S= [(1,2),(3,4),(-1,1),(6,-7),(0, 6),(-5,-8),(-1,-1),(6,0),(1,-1)]\n",
    "P= (3,-4)\n",
    "closest_points(S, P)"
   ]
  },
  {
   "cell_type": "markdown",
   "metadata": {
    "id": "Te9PKEoWFb7b"
   },
   "source": [
    "### Q6: Find Which line separates oranges and apples\n",
    "consider you have given two set of data points in the form of list of tuples like \n",
    "<pre>\n",
    "Red =[(R11,R12),(R21,R22),(R31,R32),(R41,R42),(R51,R52),..,(Rn1,Rn2)]\n",
    "Blue=[(B11,B12),(B21,B22),(B31,B32),(B41,B42),(B51,B52),..,(Bm1,Bm2)]\n",
    "</pre>\n",
    "and set of line equations(in the string formate, i.e list of strings)\n",
    "<pre>\n",
    "Lines = [a1x+b1y+c1,a2x+b2y+c2,a3x+b3y+c3,a4x+b4y+c4,..,K lines]\n",
    "Note: you need to string parsing here and get the coefficients of x,y and intercept\n",
    "</pre>\n",
    "your task is to for each line that is given print \"YES\"/\"NO\", you will print yes, if all the red points are one side of the line and blue points are other side of the line, otherwise no\n",
    "<pre>\n",
    "Ex:\n",
    "Red= [(1,1),(2,1),(4,2),(2,4), (-1,4)]\n",
    "Blue= [(-2,-1),(-1,-2),(-3,-2),(-3,-1),(1,-3)]\n",
    "Lines=[\"1x+1y+0\",\"1x-1y+0\",\"1x+0y-3\",\"0x+1y-0.5\"]\n",
    "<img src='https://i.imgur.com/DoQf7mE.jpg' width=400>\n",
    "Output:\n",
    "YES\n",
    "NO\n",
    "NO\n",
    "YES\n",
    "</pre>"
   ]
  },
  {
   "cell_type": "code",
   "execution_count": 12,
   "metadata": {
    "id": "Huy8qkgkUzsY"
   },
   "outputs": [],
   "source": [
    "import re\n",
    "def line_separates(red, blue, lines):\n",
    "    line_coefs = [list(map(float, re.split(r'x|y', line))) for line in lines]\n",
    "    #print(line_coefs)\n",
    "\n",
    "    res = []\n",
    "\n",
    "    for line in line_coefs:\n",
    "        a,b,c = line\n",
    "        red_pos, blue_pos = [], []\n",
    "        for x1, y1 in red:\n",
    "            if (x1*a)+(y1*b) + c > 0:\n",
    "                red_pos.append('above')\n",
    "            elif (x1*a)+(y1*b) + c < 0:\n",
    "                red_pos.append('below')\n",
    "            else:\n",
    "                red_pos.append('on')\n",
    "        \n",
    "        for x2, y2 in blue:\n",
    "            if (x2*a)+(y2*b) + c > 0:\n",
    "                blue_pos.append('above')\n",
    "            elif (x2*a)+(y2*b) + c < 0:\n",
    "                blue_pos.append('below')\n",
    "            else:\n",
    "                blue_pos.append('on')\n",
    "\n",
    "        red_is_above = [x == 'above' for x in red_pos]\n",
    "        red_is_below = [x == 'below' for x in red_pos]\n",
    "        blue_is_above = [x == 'above' for x in blue_pos]\n",
    "        blue_is_below = [x == 'below' for x in blue_pos]\n",
    "\n",
    "        ans = (all(red_is_above) and all(blue_is_below)) or (all(red_is_below) and all(blue_is_above))\n",
    "        print('YES' if ans else 'NO')\n",
    "        \n"
   ]
  },
  {
   "cell_type": "code",
   "execution_count": 13,
   "metadata": {
    "colab": {
     "base_uri": "https://localhost:8080/"
    },
    "id": "BoGev-C3VZt7",
    "outputId": "7b4bb207-5372-4c2b-d4ec-4e3dd21eecab"
   },
   "outputs": [
    {
     "name": "stdout",
     "output_type": "stream",
     "text": [
      "YES\n",
      "NO\n",
      "NO\n",
      "YES\n"
     ]
    }
   ],
   "source": [
    "red= [(1,1),(2,1),(4,2),(2,4), (-1,4)]\n",
    "blue= [(-2,-1),(-1,-2),(-3,-2),(-3,-1),(1,-3)]\n",
    "lines=[\"1x+1y+0\",\"1x-1y+0\",\"1x+0y-3\",\"0x+1y-0.5\"]\n",
    "\n",
    "line_separates(red, blue, lines)"
   ]
  },
  {
   "cell_type": "code",
   "execution_count": 13,
   "metadata": {
    "id": "R2fNOKwaapkV"
   },
   "outputs": [],
   "source": []
  },
  {
   "cell_type": "markdown",
   "metadata": {
    "id": "HTZf-6mjFb02"
   },
   "source": [
    "### Q7. Filling the missing values in the specified formate\n",
    "You will be given a string with digits and '_'(missing value) symbols you have to replace the '_' symbols as explained.\n",
    "\n",
    "```\n",
    "Ex 1: _, _, _, 24 ==> 24/4, 24/4, 24/4, 24/4 i.e we. have distributed the 24 equally to all 4 places \n",
    "\n",
    "Ex 2: 40, _, _, _, 60 ==> (60+40)/5,(60+40)/5,(60+40)/5,(60+40)/5,(60+40)/5 ==> 20, 20, 20, 20, 20 i.e. the sum of (60+40) is distributed qually to all 5 places\n",
    "\n",
    "Ex 3: 80, _, _, _, _  ==> 80/5,80/5,80/5,80/5,80/5 ==> 16, 16, 16, 16, 16 i.e. the 80 is distributed qually to all 5 missing values that are right to it\n",
    "\n",
    "Ex 4: _, _, 30, _, _, _, 50, _, _  \n",
    "==> we will fill the missing values from left to right \n",
    "    a. first we will distribute the 30 to left two missing values (10, 10, 10, _, _, _, 50, _, _)\n",
    "    b. now distribute the sum (10+50) missing values in between (10, 10, 12, 12, 12, 12, 12, _, _) \n",
    "    c. now we will distribute 12 to right side missing values (10, 10, 12, 12, 12, 12, 4, 4, 4)\n",
    "```"
   ]
  },
  {
   "cell_type": "code",
   "execution_count": 14,
   "metadata": {
    "id": "VJ7yGRILgKUC"
   },
   "outputs": [],
   "source": [
    "def curve_smoothing(string):\n",
    "    raw_values = []\n",
    "    \n",
    "    for value in string.split(','):\n",
    "        if value == '_':\n",
    "            raw_values.append(None)\n",
    "        else:\n",
    "            raw_values.append(int(value))\n",
    "            \n",
    "    missing_start, missing_end = None, None\n",
    "    left, right = None, None\n",
    "    for i, rv in enumerate(raw_values):\n",
    "\n",
    "        if rv is None:\n",
    "            if missing_start is None:\n",
    "                missing_start = i\n",
    "            missing_end = i\n",
    "            \n",
    "            if missing_end == len(raw_values)-1:\n",
    "                total = raw_values[missing_start - 1]\n",
    "                missing_value = total/len(raw_values[missing_start-1:])\n",
    "                raw_values[missing_start-1:] = [missing_value]*len(raw_values[missing_start-1:])\n",
    "                \n",
    "        if rv is not None:\n",
    "            if missing_start is None:\n",
    "                continue\n",
    "                \n",
    "            if missing_start == 0: #missing from left end\n",
    "                total = 0 + raw_values[missing_end+1]\n",
    "                missing_value = total/len(raw_values[:missing_end+2])\n",
    "                raw_values[:missing_end+2] = [missing_value] * len(raw_values[:missing_end+2])\n",
    "                \n",
    "            elif missing_start != 0 and missing_end != len(raw_values) -1: #missing from mid\n",
    "                total = raw_values[missing_start-1] + raw_values[missing_end+1]\n",
    "                missing_value = total / len(raw_values[missing_start-1:missing_end+2])\n",
    "                raw_values[missing_start-1:missing_end+2] = [missing_value]*len(raw_values[missing_start-1:missing_end+2])\n",
    "            \n",
    "            missing_start, missing_end = None, None #reset after handling missing values\n",
    "            \n",
    "    return raw_values\n"
   ]
  },
  {
   "cell_type": "code",
   "execution_count": 15,
   "metadata": {
    "colab": {
     "base_uri": "https://localhost:8080/"
    },
    "id": "WP1Sb8p_gvRp",
    "outputId": "39b9360a-f46f-444a-b01f-b8fda0cf1d73"
   },
   "outputs": [
    {
     "name": "stdout",
     "output_type": "stream",
     "text": [
      "[6.0, 6.0, 6.0, 6.0]\n",
      "[20.0, 20.0, 20.0, 20.0, 20.0]\n",
      "[16.0, 16.0, 16.0, 16.0, 16.0]\n",
      "[10.0, 10.0, 12.0, 12.0, 12.0, 12.0, 4.0, 4.0, 4.0]\n"
     ]
    }
   ],
   "source": [
    "S_arr =  [\"_,_,_,24\",\n",
    "          \"40,_,_,_,60\",\n",
    "          \"80,_,_,_,_\",\n",
    "          \"_,_,30,_,_,_,50,_,_\"\n",
    "         ]\n",
    "for S in S_arr:\n",
    "    smoothed_values= curve_smoothing(S)\n",
    "    print(smoothed_values)"
   ]
  },
  {
   "cell_type": "markdown",
   "metadata": {
    "id": "z7WuunTMFbtZ"
   },
   "source": [
    "### Q8. Filling the missing values in the specified format\n",
    "\n",
    "You will be given a list of lists, each sublist will be of length 2 i.e. [[x,y],[p,q],[l,m]..[r,s]]\n",
    "consider its like a martrix of n rows and two columns\n",
    "1. the first column F will contain only 5 uniques values (F1, F2, F3, F4, F5)\n",
    "2. the second column S will contain only 3 uniques values (S1, S2, S3)\n",
    "<pre>\n",
    "your task is to find\n",
    "a. Probability of P(F=F1|S==S1), P(F=F1|S==S2), P(F=F1|S==S3)\n",
    "b. Probability of P(F=F2|S==S1), P(F=F2|S==S2), P(F=F2|S==S3)\n",
    "c. Probability of P(F=F3|S==S1), P(F=F3|S==S2), P(F=F3|S==S3)\n",
    "d. Probability of P(F=F4|S==S1), P(F=F4|S==S2), P(F=F4|S==S3)\n",
    "e. Probability of P(F=F5|S==S1), P(F=F5|S==S2), P(F=F5|S==S3)\n",
    "</pre>\n",
    "Ex:\n",
    "\n",
    "<pre>\n",
    "[[F1,S1],[F2,S2],[F3,S3],[F1,S2],[F2,S3],[F3,S2],[F2,S1],[F4,S1],[F4,S3],[F5,S1]]\n",
    "\n",
    "a. P(F=F1|S==S1)=1/4, P(F=F1|S==S2)=1/3, P(F=F1|S==S3)=0/3\n",
    "b. P(F=F2|S==S1)=1/4, P(F=F2|S==S2)=1/3, P(F=F2|S==S3)=1/3\n",
    "c. P(F=F3|S==S1)=0/4, P(F=F3|S==S2)=1/3, P(F=F3|S==S3)=1/3\n",
    "d. P(F=F4|S==S1)=1/4, P(F=F4|S==S2)=0/3, P(F=F4|S==S3)=1/3\n",
    "e. P(F=F5|S==S1)=1/4, P(F=F5|S==S2)=0/3, P(F=F5|S==S3)=0/3\n",
    "</pre>\n"
   ]
  },
  {
   "cell_type": "code",
   "execution_count": 16,
   "metadata": {
    "id": "ANHKX86jwZxV"
   },
   "outputs": [],
   "source": [
    "def compute_conditional_probabilities(A):\n",
    "    F, S = set(), set()\n",
    "    S_count = {}\n",
    "    for f,s in A:\n",
    "        F.add(f)\n",
    "        if s in S_count:\n",
    "            S_count[s]+=1\n",
    "        else:\n",
    "            S_count[s] = 1\n",
    "        S.add(s)\n",
    "    print(F,S)\n",
    "\n",
    "    for f in F:\n",
    "        for s in S:\n",
    "            f_cond = A.count([f,s])\n",
    "            print(f\"P(F={f})|(S={s})={f_cond}/{S_count[s]}\")\n",
    "        print()"
   ]
  },
  {
   "cell_type": "code",
   "execution_count": 17,
   "metadata": {
    "colab": {
     "base_uri": "https://localhost:8080/"
    },
    "id": "UCIkHLV7xPJ5",
    "outputId": "fb5ce50b-f19b-4711-edc7-72f7edeee7f9"
   },
   "outputs": [
    {
     "name": "stdout",
     "output_type": "stream",
     "text": [
      "{'F4', 'F2', 'F1', 'F5', 'F3'} {'S3', 'S2', 'S1'}\n",
      "P(F=F4)|(S=S3)=1/3\n",
      "P(F=F4)|(S=S2)=0/3\n",
      "P(F=F4)|(S=S1)=1/4\n",
      "\n",
      "P(F=F2)|(S=S3)=1/3\n",
      "P(F=F2)|(S=S2)=1/3\n",
      "P(F=F2)|(S=S1)=1/4\n",
      "\n",
      "P(F=F1)|(S=S3)=0/3\n",
      "P(F=F1)|(S=S2)=1/3\n",
      "P(F=F1)|(S=S1)=1/4\n",
      "\n",
      "P(F=F5)|(S=S3)=0/3\n",
      "P(F=F5)|(S=S2)=0/3\n",
      "P(F=F5)|(S=S1)=1/4\n",
      "\n",
      "P(F=F3)|(S=S3)=1/3\n",
      "P(F=F3)|(S=S2)=1/3\n",
      "P(F=F3)|(S=S1)=0/4\n",
      "\n"
     ]
    }
   ],
   "source": [
    "A = [['F1','S1'],['F2','S2'],['F3','S3'],['F1','S2'],['F2','S3'],['F3','S2'],['F2','S1'],['F4','S1'],['F4','S3'],['F5','S1']]\n",
    "compute_conditional_probabilities(A)"
   ]
  },
  {
   "cell_type": "markdown",
   "metadata": {
    "id": "hU2lJ4ICFbk6"
   },
   "source": [
    "### Q9. Given two sentences S1, S2\n",
    "You will be given two sentences S1, S2 your task is to find \n",
    "<pre>\n",
    "a. Number of common words between S1, S2\n",
    "b. Words in S1 but not in S2\n",
    "c. Words in S2 but not in S1\n",
    "</pre>\n",
    "\n",
    "Ex: \n",
    "<pre>\n",
    "S1= \"the first column F will contain only 5 unique values\"\n",
    "S2= \"the second column S will contain only 3 unique values\"\n",
    "Output:\n",
    "a. 7\n",
    "b. ['first','F','5']\n",
    "c. ['second','S','3']\n",
    "</pre>"
   ]
  },
  {
   "cell_type": "code",
   "execution_count": 18,
   "metadata": {
    "id": "5oKY28c2MsIg"
   },
   "outputs": [],
   "source": [
    "def string_features(S1, S2):\n",
    "    a,b = set(S1.split()), set(S2.split())\n",
    "    print(f'Number of common words: {len(a&b)}')\n",
    "    print(f'Words is s1 but not in s2: {a.difference(b)}')\n",
    "    print(f'Words in s2 but not in s1: {b.difference(a)}')"
   ]
  },
  {
   "cell_type": "code",
   "execution_count": 19,
   "metadata": {
    "colab": {
     "base_uri": "https://localhost:8080/"
    },
    "id": "QfiM4y2aNIkr",
    "outputId": "5bb54313-12c7-4282-c964-dfdccf751353"
   },
   "outputs": [
    {
     "name": "stdout",
     "output_type": "stream",
     "text": [
      "Number of common words: 7\n",
      "Words is s1 but not in s2: {'5', 'first', 'F'}\n",
      "Words in s2 but not in s1: {'3', 'second', 'S'}\n"
     ]
    }
   ],
   "source": [
    "s1= \"the first column F will contain only 5 unique values\"\n",
    "s2= \"the second column S will contain only 3 unique values\"\n",
    "string_features(s1,s2)"
   ]
  },
  {
   "cell_type": "markdown",
   "metadata": {
    "id": "41FiMSQaFaW8"
   },
   "source": [
    "### Q10 You will be given a list of lists, each sublist will be of length 2 i.e. [[x,y],[p,q],[l,m]..[r,s]]\n",
    "consider its like a martrix of n rows and two columns\n",
    "\n",
    "a. the first column Y will contain interger values <br>\n",
    "b. the second column $Y_{score}$ will be having float values <br>\n",
    "Your task is to find the value of $f(Y,Y_{score}) = -1*\\frac{1}{n}\\Sigma_{for each Y,Y_{score} pair}(Ylog10(Y_{score})+(1-Y)log10(1-Y_{score}))$ here n is the number of rows in the matrix\n",
    "<pre>\n",
    "Ex:\n",
    "[[1, 0.4], [0, 0.5], [0, 0.9], [0, 0.3], [0, 0.6], [1, 0.1], [1, 0.9], [1, 0.8]]\n",
    "output:\n",
    "0.4243099\n",
    "</pre>\n",
    "$\\frac{-1}{8}\\cdot((1\\cdot log_{10}(0.4)+0\\cdot log_{10}(0.6))+(0\\cdot log_{10}(0.5)+1\\cdot log_{10}(0.5)) + ... + (1\\cdot log_{10}(0.8)+0\\cdot log_{10}(0.2)) )$"
   ]
  },
  {
   "cell_type": "code",
   "execution_count": 20,
   "metadata": {
    "id": "t5C-OxL6FY23"
   },
   "outputs": [],
   "source": [
    "import math\n",
    "def compute_log_loss(A):\n",
    "    n = len(A)\n",
    "    k = 0\n",
    "    for i, [y, yscore] in enumerate(A):\n",
    "        k += (y*math.log10(yscore) + ((1-y)*math.log10(1-yscore))) \n",
    "    return (-1/n) * k"
   ]
  },
  {
   "cell_type": "code",
   "execution_count": 21,
   "metadata": {
    "colab": {
     "base_uri": "https://localhost:8080/"
    },
    "id": "PofGYEgFMGgc",
    "outputId": "61672cd5-554e-4678-b36e-214d730decf7"
   },
   "outputs": [
    {
     "data": {
      "text/plain": [
       "0.42430993457031635"
      ]
     },
     "execution_count": 21,
     "metadata": {
      "tags": []
     },
     "output_type": "execute_result"
    }
   ],
   "source": [
    "compute_log_loss([[1, 0.4], [0, 0.5], [0, 0.9], [0, 0.3], [0, 0.6], [1, 0.1], [1, 0.9], [1, 0.8]])"
   ]
  },
  {
   "cell_type": "code",
   "execution_count": 23,
   "metadata": {
    "colab": {
     "base_uri": "https://localhost:8080/",
     "height": 324
    },
    "id": "c4UJBGIKMK4C",
    "outputId": "1c84b7d1-b5da-4eff-a480-ebab9d263797"
   },
   "outputs": [
    {
     "name": "stdout",
     "output_type": "stream",
     "text": [
      "File ‘colab_pdf.py’ already there; not retrieving.\n",
      "\n",
      "\n",
      "WARNING: apt does not have a stable CLI interface. Use with caution in scripts.\n",
      "\n",
      "\n",
      "WARNING: apt does not have a stable CLI interface. Use with caution in scripts.\n",
      "\n",
      "Extracting templates from packages: 100%\n",
      "[NbConvertApp] Converting notebook /content/drive/MyDrive/Colab Notebooks/AAIC_Assignment_3.ipynb to pdf\n",
      "[NbConvertApp] Writing 63751 bytes to ./notebook.tex\n",
      "[NbConvertApp] Building PDF\n",
      "[NbConvertApp] Running xelatex 3 times: [u'xelatex', u'./notebook.tex', '-quiet']\n",
      "[NbConvertApp] Running bibtex 1 time: [u'bibtex', u'./notebook']\n",
      "[NbConvertApp] WARNING | bibtex had problems, most likely because there were no citations\n",
      "[NbConvertApp] PDF successfully created\n",
      "[NbConvertApp] Writing 67363 bytes to /content/drive/My Drive/AAIC_Assignment_3.pdf\n"
     ]
    },
    {
     "data": {
      "application/javascript": [
       "\n",
       "    async function download(id, filename, size) {\n",
       "      if (!google.colab.kernel.accessAllowed) {\n",
       "        return;\n",
       "      }\n",
       "      const div = document.createElement('div');\n",
       "      const label = document.createElement('label');\n",
       "      label.textContent = `Downloading \"${filename}\": `;\n",
       "      div.appendChild(label);\n",
       "      const progress = document.createElement('progress');\n",
       "      progress.max = size;\n",
       "      div.appendChild(progress);\n",
       "      document.body.appendChild(div);\n",
       "\n",
       "      const buffers = [];\n",
       "      let downloaded = 0;\n",
       "\n",
       "      const channel = await google.colab.kernel.comms.open(id);\n",
       "      // Send a message to notify the kernel that we're ready.\n",
       "      channel.send({})\n",
       "\n",
       "      for await (const message of channel.messages) {\n",
       "        // Send a message to notify the kernel that we're ready.\n",
       "        channel.send({})\n",
       "        if (message.buffers) {\n",
       "          for (const buffer of message.buffers) {\n",
       "            buffers.push(buffer);\n",
       "            downloaded += buffer.byteLength;\n",
       "            progress.value = downloaded;\n",
       "          }\n",
       "        }\n",
       "      }\n",
       "      const blob = new Blob(buffers, {type: 'application/binary'});\n",
       "      const a = document.createElement('a');\n",
       "      a.href = window.URL.createObjectURL(blob);\n",
       "      a.download = filename;\n",
       "      div.appendChild(a);\n",
       "      a.click();\n",
       "      div.remove();\n",
       "    }\n",
       "  "
      ],
      "text/plain": [
       "<IPython.core.display.Javascript object>"
      ]
     },
     "metadata": {
      "tags": []
     },
     "output_type": "display_data"
    },
    {
     "data": {
      "application/javascript": [
       "download(\"download_0900e6b9-129a-4368-8965-c4d8a4953dfe\", \"AAIC_Assignment_3.pdf\", 67363)"
      ],
      "text/plain": [
       "<IPython.core.display.Javascript object>"
      ]
     },
     "metadata": {
      "tags": []
     },
     "output_type": "display_data"
    },
    {
     "data": {
      "application/vnd.google.colaboratory.intrinsic+json": {
       "type": "string"
      },
      "text/plain": [
       "'File ready to be Downloaded and Saved to Drive'"
      ]
     },
     "execution_count": 23,
     "metadata": {
      "tags": []
     },
     "output_type": "execute_result"
    }
   ],
   "source": [
    "#converting ipynb to pdf\n",
    "!wget -nc https://raw.githubusercontent.com/brpy/colab-pdf/master/colab_pdf.py\n",
    "from colab_pdf import colab_pdf\n",
    "colab_pdf('AAIC_Assignment_3.ipynb')\n"
   ]
  },
  {
   "cell_type": "code",
   "execution_count": null,
   "metadata": {
    "id": "RJ9RMJQoRIvu"
   },
   "outputs": [],
   "source": []
  }
 ],
 "metadata": {
  "colab": {
   "collapsed_sections": [],
   "name": "AAIC_Assignment_3.ipynb",
   "provenance": []
  },
  "kernelspec": {
   "display_name": "Python 3",
   "language": "python",
   "name": "python3"
  },
  "language_info": {
   "codemirror_mode": {
    "name": "ipython",
    "version": 3
   },
   "file_extension": ".py",
   "mimetype": "text/x-python",
   "name": "python",
   "nbconvert_exporter": "python",
   "pygments_lexer": "ipython3",
   "version": "3.8.8"
  }
 },
 "nbformat": 4,
 "nbformat_minor": 1
}
