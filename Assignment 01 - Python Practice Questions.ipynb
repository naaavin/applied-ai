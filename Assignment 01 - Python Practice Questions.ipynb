{
 "cells": [
  {
   "cell_type": "markdown",
   "id": "8a570812",
   "metadata": {},
   "source": [
    "# Assignment 01 - Python Practice Questions"
   ]
  },
  {
   "cell_type": "code",
   "execution_count": 1,
   "id": "2b1761d0",
   "metadata": {},
   "outputs": [],
   "source": [
    "# Imports\n",
    "import math"
   ]
  },
  {
   "cell_type": "markdown",
   "id": "88c830da",
   "metadata": {},
   "source": [
    "#### Q1. Write a function that inputs a number and prints the multiplication table of that number."
   ]
  },
  {
   "cell_type": "code",
   "execution_count": 2,
   "id": "1f2971c8",
   "metadata": {},
   "outputs": [],
   "source": [
    "def multiplication_table(num):\n",
    "    for i in range(1,11):\n",
    "        print(f'{num} x {i} = {num*i}')"
   ]
  },
  {
   "cell_type": "code",
   "execution_count": 3,
   "id": "fb00cac7",
   "metadata": {},
   "outputs": [
    {
     "name": "stdout",
     "output_type": "stream",
     "text": [
      "5 x 1 = 5\n",
      "5 x 2 = 10\n",
      "5 x 3 = 15\n",
      "5 x 4 = 20\n",
      "5 x 5 = 25\n",
      "5 x 6 = 30\n",
      "5 x 7 = 35\n",
      "5 x 8 = 40\n",
      "5 x 9 = 45\n",
      "5 x 10 = 50\n"
     ]
    }
   ],
   "source": [
    "multiplication_table(5)"
   ]
  },
  {
   "cell_type": "markdown",
   "id": "19070d7c",
   "metadata": {},
   "source": [
    "#### Q2. Write a program to print twin primes less than 1000. If two consecutive odd numbers are prime, then they are known as twin primes."
   ]
  },
  {
   "cell_type": "code",
   "execution_count": 4,
   "id": "d1ad6a25",
   "metadata": {},
   "outputs": [],
   "source": [
    "def isPrime(num):\n",
    "    if num < 2:\n",
    "        return False\n",
    "    for i in range(2, int(num**0.5)+1):\n",
    "        if num % i == 0:\n",
    "            return False\n",
    "    return True\n",
    "\n",
    "def twin_primes(start=1, end=1000):\n",
    "    if start % 2 == 0:\n",
    "        start += 1\n",
    "    \n",
    "    for i in range(start, end-1, 2):\n",
    "        if isPrime(i) and isPrime(i+2):\n",
    "            print(i, i+2)"
   ]
  },
  {
   "cell_type": "code",
   "execution_count": 5,
   "id": "6e196a39",
   "metadata": {},
   "outputs": [
    {
     "name": "stdout",
     "output_type": "stream",
     "text": [
      "3 5\n",
      "5 7\n",
      "11 13\n",
      "17 19\n",
      "29 31\n",
      "41 43\n",
      "59 61\n",
      "71 73\n",
      "101 103\n",
      "107 109\n",
      "137 139\n",
      "149 151\n",
      "179 181\n",
      "191 193\n",
      "197 199\n",
      "227 229\n",
      "239 241\n",
      "269 271\n",
      "281 283\n",
      "311 313\n",
      "347 349\n",
      "419 421\n",
      "431 433\n",
      "461 463\n",
      "521 523\n",
      "569 571\n",
      "599 601\n",
      "617 619\n",
      "641 643\n",
      "659 661\n",
      "809 811\n",
      "821 823\n",
      "827 829\n",
      "857 859\n",
      "881 883\n"
     ]
    }
   ],
   "source": [
    "twin_primes()"
   ]
  },
  {
   "cell_type": "markdown",
   "id": "ee0f1bad",
   "metadata": {},
   "source": [
    "#### Q3. Write a program to find out prime factors of a number."
   ]
  },
  {
   "cell_type": "code",
   "execution_count": 6,
   "id": "ccf4942b",
   "metadata": {},
   "outputs": [],
   "source": [
    "def prime_factors(num):\n",
    "    pf = []\n",
    "    while num > 0:\n",
    "        for i in range(2, num+1):\n",
    "            if isPrime(i) and num % i == 0:\n",
    "                pf.append(i)\n",
    "                break\n",
    "        num = num // i\n",
    "    return pf"
   ]
  },
  {
   "cell_type": "code",
   "execution_count": 7,
   "id": "26385ead",
   "metadata": {},
   "outputs": [
    {
     "name": "stdout",
     "output_type": "stream",
     "text": [
      "[2, 2, 2, 7]\n"
     ]
    }
   ],
   "source": [
    "print(prime_factors(56))"
   ]
  },
  {
   "cell_type": "markdown",
   "id": "39c93f85",
   "metadata": {},
   "source": [
    "#### Q4. Write a program to implement the formulae for permutations and combinations."
   ]
  },
  {
   "cell_type": "code",
   "execution_count": 8,
   "id": "e68a35af",
   "metadata": {},
   "outputs": [],
   "source": [
    "def permutations(n,r):\n",
    "    return math.factorial(n) // math.factorial(n-r)\n",
    "\n",
    "def combinations(n,r):\n",
    "    return permutations(n,r) // math.factorial(r)"
   ]
  },
  {
   "cell_type": "code",
   "execution_count": 9,
   "id": "8a635ae1",
   "metadata": {},
   "outputs": [
    {
     "name": "stdout",
     "output_type": "stream",
     "text": [
      "60\n",
      "10\n"
     ]
    }
   ],
   "source": [
    "print(permutations(5,3))\n",
    "print(combinations(5,3))"
   ]
  },
  {
   "cell_type": "markdown",
   "id": "ec3776ab",
   "metadata": {},
   "source": [
    "#### Q5. Write a program that converts a decimal number to a binary number."
   ]
  },
  {
   "cell_type": "code",
   "execution_count": 10,
   "id": "5c61f047",
   "metadata": {},
   "outputs": [],
   "source": [
    "def dec_to_bin(num):\n",
    "    bin_num = ''\n",
    "    while num > 0:\n",
    "        bin_num = str(num % 2) + bin_num\n",
    "        num = num // 2\n",
    "    return bin_num"
   ]
  },
  {
   "cell_type": "code",
   "execution_count": 11,
   "id": "da1e12e0",
   "metadata": {},
   "outputs": [
    {
     "name": "stdout",
     "output_type": "stream",
     "text": [
      "11111\n"
     ]
    }
   ],
   "source": [
    "print(dec_to_bin(31))"
   ]
  },
  {
   "cell_type": "markdown",
   "id": "41f3005a",
   "metadata": {},
   "source": [
    "#### Q6. Write a function cubesum() that accepts an integer and returns the sum of the cubes of the individual digits of that number. Use this function to make functions isArmstrong() and printArmstrong() to find whether a number is an Armstring number and to print Armstrong numbers."
   ]
  },
  {
   "cell_type": "code",
   "execution_count": 12,
   "id": "5a916839",
   "metadata": {},
   "outputs": [],
   "source": [
    "def cubesum(num):\n",
    "    cs = 0\n",
    "    while num > 0:\n",
    "        cs += (num%10)**3\n",
    "        num = num // 10\n",
    "    return cs\n",
    "\n",
    "def isArmstrong(num):\n",
    "    return num == cubesum(num)\n",
    "\n",
    "def printArmstrong(start=1, end=1000):\n",
    "    for i in range(start, end+1):\n",
    "        if isArmstrong(i):\n",
    "            print(i)"
   ]
  },
  {
   "cell_type": "code",
   "execution_count": 13,
   "id": "138e1085",
   "metadata": {},
   "outputs": [
    {
     "name": "stdout",
     "output_type": "stream",
     "text": [
      "1\n",
      "153\n",
      "370\n",
      "371\n",
      "407\n"
     ]
    }
   ],
   "source": [
    "printArmstrong()"
   ]
  },
  {
   "cell_type": "markdown",
   "id": "bbf3f987",
   "metadata": {},
   "source": [
    "#### Q7. Write a function prodDigits() that inputs a number and returns the product of digits of that number."
   ]
  },
  {
   "cell_type": "code",
   "execution_count": 14,
   "id": "d1dbb842",
   "metadata": {},
   "outputs": [],
   "source": [
    "def prodDigits(num):\n",
    "    prod = 1\n",
    "    while num > 0:\n",
    "        prod = prod * (num % 10)\n",
    "        num = num // 10\n",
    "    return prod"
   ]
  },
  {
   "cell_type": "code",
   "execution_count": 15,
   "id": "dbd30b5a",
   "metadata": {},
   "outputs": [
    {
     "name": "stdout",
     "output_type": "stream",
     "text": [
      "6\n"
     ]
    }
   ],
   "source": [
    "print(prodDigits(123))"
   ]
  },
  {
   "cell_type": "markdown",
   "id": "2b1392e4",
   "metadata": {},
   "source": [
    "#### Q8. If all digits of a number n are multiplied by each other repeating with the product, the one digit number obtained at last is called the Multiplicative Digital Root (MDR) of n. The number of times the digits need to be multiplied to reach one digit is called the Multiplicative Persistence of n.\n",
    "#### Using the function prodDigits() of previous exercise, write functions MDR() and MPersistence() that input a number and return its MDR and Multiplicative Persistence respectively."
   ]
  },
  {
   "cell_type": "code",
   "execution_count": 16,
   "id": "f27e8424",
   "metadata": {},
   "outputs": [],
   "source": [
    "def MDR(num):\n",
    "    while int(math.log10(num)) != 0:\n",
    "        num = prodDigits(num)\n",
    "    return num\n",
    "\n",
    "def MPersistence(num):\n",
    "    count = 0\n",
    "    while int(math.log10(num)) != 0:\n",
    "        num = prodDigits(num)\n",
    "        count+=1\n",
    "    return count"
   ]
  },
  {
   "cell_type": "code",
   "execution_count": 17,
   "id": "139cf025",
   "metadata": {},
   "outputs": [
    {
     "name": "stdout",
     "output_type": "stream",
     "text": [
      "6 3\n",
      "2 2\n"
     ]
    }
   ],
   "source": [
    "print(MDR(86), MPersistence(86))\n",
    "print(MDR(341), MPersistence(341))"
   ]
  },
  {
   "cell_type": "markdown",
   "id": "de5ab487",
   "metadata": {},
   "source": [
    "#### Q9. Write a function sumPdivisors() that finds the sum of the proper divisors of a number."
   ]
  },
  {
   "cell_type": "code",
   "execution_count": 18,
   "id": "9e90f1bb",
   "metadata": {},
   "outputs": [],
   "source": [
    "def sumPdivisors(num):\n",
    "    pdsum = 0\n",
    "    for i in range(1,num//2 +1):\n",
    "        if num % i == 0:\n",
    "            pdsum += i\n",
    "    return pdsum"
   ]
  },
  {
   "cell_type": "code",
   "execution_count": 19,
   "id": "b3280e94",
   "metadata": {},
   "outputs": [
    {
     "name": "stdout",
     "output_type": "stream",
     "text": [
      "55\n"
     ]
    }
   ],
   "source": [
    "print(sumPdivisors(36))"
   ]
  },
  {
   "cell_type": "markdown",
   "id": "668b41b4",
   "metadata": {},
   "source": [
    "#### Q10. Write a program to print all the perfect numbers in a given range."
   ]
  },
  {
   "cell_type": "code",
   "execution_count": 20,
   "id": "5dceb92f",
   "metadata": {},
   "outputs": [],
   "source": [
    "def perfect_numbers(start=1, end=10000):\n",
    "    perfect_nums = []\n",
    "    for i in range(start, end+1):\n",
    "        if i == sumPdivisors(i):\n",
    "            perfect_nums.append(i)\n",
    "    return perfect_nums"
   ]
  },
  {
   "cell_type": "code",
   "execution_count": 21,
   "id": "4f2c846e",
   "metadata": {},
   "outputs": [
    {
     "name": "stdout",
     "output_type": "stream",
     "text": [
      "[6, 28, 496, 8128]\n"
     ]
    }
   ],
   "source": [
    "print(perfect_numbers())"
   ]
  },
  {
   "cell_type": "markdown",
   "id": "5e970269",
   "metadata": {},
   "source": [
    "#### Q11. Write a function to print pairs of amicable numbers in a range."
   ]
  },
  {
   "cell_type": "code",
   "execution_count": 22,
   "id": "526f976b",
   "metadata": {},
   "outputs": [],
   "source": [
    "def amicable_numbers(start=220, end=284):\n",
    "    amicable_nums = []\n",
    "    for i in range(start, end+1):\n",
    "        a = sumPdivisors(i)\n",
    "        b = sumPdivisors(a)\n",
    "        if b == i:\n",
    "            amicable_nums.append([a,b])\n",
    "    return amicable_nums"
   ]
  },
  {
   "cell_type": "code",
   "execution_count": 23,
   "id": "971295e5",
   "metadata": {},
   "outputs": [
    {
     "name": "stdout",
     "output_type": "stream",
     "text": [
      "[[284, 220], [220, 284]]\n"
     ]
    }
   ],
   "source": [
    "print(amicable_numbers())"
   ]
  },
  {
   "cell_type": "markdown",
   "id": "5f847d46",
   "metadata": {},
   "source": [
    "#### Q12. Write a program which can filter odd numbers in a list by using filter function."
   ]
  },
  {
   "cell_type": "code",
   "execution_count": 24,
   "id": "9770f43f",
   "metadata": {},
   "outputs": [
    {
     "name": "stdout",
     "output_type": "stream",
     "text": [
      "[1, 3, 5, 7, 9, 11, 13, 15, 17, 19]\n"
     ]
    }
   ],
   "source": [
    "nums = [i for i in range(1, 20)]\n",
    "odds = list(filter(lambda x : x%2 == 1, nums))\n",
    "print(odds)"
   ]
  },
  {
   "cell_type": "markdown",
   "id": "6fe8a184",
   "metadata": {},
   "source": [
    "#### Q13. Write a program which can use map() to make a list whose elements are cubes of elements in a given list."
   ]
  },
  {
   "cell_type": "code",
   "execution_count": 25,
   "id": "66b2fd81",
   "metadata": {},
   "outputs": [
    {
     "name": "stdout",
     "output_type": "stream",
     "text": [
      "[1, 8, 27, 64, 125, 216, 343, 512, 729, 1000, 1331, 1728, 2197, 2744, 3375, 4096, 4913, 5832, 6859]\n"
     ]
    }
   ],
   "source": [
    "cubes = list(map(lambda x : x**3, nums))\n",
    "print(cubes)"
   ]
  },
  {
   "cell_type": "markdown",
   "id": "43d2be6f",
   "metadata": {},
   "source": [
    "#### Q14. Write a program which can use map() and filter() to make a list whose elements are cubes of even numbers in a given list."
   ]
  },
  {
   "cell_type": "code",
   "execution_count": 26,
   "id": "7b045fc0",
   "metadata": {},
   "outputs": [
    {
     "name": "stdout",
     "output_type": "stream",
     "text": [
      "[8, 64, 216, 512, 1000, 1728, 2744, 4096, 5832]\n"
     ]
    }
   ],
   "source": [
    "cubes_even = list(map(lambda x : x**3, list(filter(lambda x : x%2 == 0, nums))))\n",
    "print(cubes_even)"
   ]
  }
 ],
 "metadata": {
  "kernelspec": {
   "display_name": "Python 3",
   "language": "python",
   "name": "python3"
  },
  "language_info": {
   "codemirror_mode": {
    "name": "ipython",
    "version": 3
   },
   "file_extension": ".py",
   "mimetype": "text/x-python",
   "name": "python",
   "nbconvert_exporter": "python",
   "pygments_lexer": "ipython3",
   "version": "3.8.8"
  }
 },
 "nbformat": 4,
 "nbformat_minor": 5
}
